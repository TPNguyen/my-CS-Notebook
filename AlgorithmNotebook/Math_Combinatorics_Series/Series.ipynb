{
 "cells": [
  {
   "cell_type": "markdown",
   "metadata": {},
   "source": [
    "\n",
    "## Series\n",
    "- Arithmetic Series - Sequential Integer (1,2,3,4...)\n",
    "$$\\sum_{k=1}^nk=\\frac{n(n+1)}{2}$$\n",
    "- Arithmetic Series - Squared Integer (1,4,9,16...)\n",
    "$$\\sum_{k=1}^nk^2=\\frac{n(n+1)(2n+1)}{6}$$\n",
    "- Arithmetic Series - Cubed Integer (1,8,27,64...)\n",
    "$$\\sum_{k=1}^nk^3=\\frac{n^2(n+1)^2}{4}$$\n",
    "- Arithmetic Series - Odd Integer (1,3,5,7...)\n",
    "$$\\sum_{k=1}^n(2k-1)=n^2$$\n",
    "- Geometric Series\n",
    "$$\\sum_{k=1}^nar^{k-1}=\\frac{a(1-r^n)}{1-r}$$\n",
    "- Geometric Series - Infinite (|r| < 1)\n",
    "$$\\sum_{k=1}^{\\infty}ar^{k-1}=\\frac{a}{1-r}$$\n"
   ]
  }
 ],
 "metadata": {
  "kernelspec": {
   "display_name": "Python 3.6",
   "language": "python",
   "name": "py36"
  },
  "language_info": {
   "codemirror_mode": {
    "name": "ipython",
    "version": 3
   },
   "file_extension": ".py",
   "mimetype": "text/x-python",
   "name": "python",
   "nbconvert_exporter": "python",
   "pygments_lexer": "ipython3",
   "version": "3.6.6"
  }
 },
 "nbformat": 4,
 "nbformat_minor": 2
}
