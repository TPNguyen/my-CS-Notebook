{
 "cells": [
  {
   "cell_type": "markdown",
   "metadata": {},
   "source": [
    "# Star-shaped polygons\n",
    "- Hierarchy of polygons\n",
    "\n",
    "$$CONVEX \\subseteq STAR\\ SHAPED \\subseteq SIMPLE$$\n",
    "\n",
    "## Definition\n",
    "- **P** is a star-shaped polygons. IF\n",
    "    + There exists a point **z** inside or on the boundary of **P**, such that\n",
    "    + For any point $t \\in P$, segment **zt** entirely lies in **p** (**z** and **t** see each other)\n",
    "\n",
    "<img src=\"./assets/28.jpg\" alt=\"drawing\" width=\"150\"/>\n",
    "\n",
    "#### Kernel\n",
    "- The set of all such points **z** = the kernel of **P**\n",
    "    + Denoted as **Ker(P)**\n",
    "<img src=\"./assets/29.jpg\" alt=\"drawing\" width=\"150\"/>\n",
    "\n",
    "- Properties\n",
    "    + **P** is star-shaped <=> **Ker(P)** $\\neq \\emptyset$\n",
    "    + **Ker(P)** is a convex polygon\n",
    "\n",
    "#### Non star-shaped polygons\n",
    "<img src=\"./assets/30.jpg\" alt=\"drawing\" width=\"150\"/>\n",
    "\n",
    "- Example - Prove a polygon is not a star-shaped polygon\n",
    "    + Blue area = points can see Blue vertex\n",
    "    + Red area = points can see Red vertex\n",
    "    + Blue and Red areas not intersect  \n",
    "        => No points in or on boundary of **P** can see red and blue vertices simultaneously\n",
    "\n",
    "#### Properties\n",
    "- Convex polygons = star-shaped polygons\n",
    "    - If **P** is a convex polygon\n",
    "        + **P** is also a star-shaped polygon\n",
    "        + **Ker(P) = P**\n",
    "- Kernel of **P** can be computed in linear time O(n)\n",
    "    + But quite complicated\n",
    "    + check \"Lee and Preparata, 1979\"\n",
    "\n",
    "## Algorithms\n",
    "#### Obtain the kernel of **P** in O(nlog(n))\n",
    "+ for each edge **e** of **P**\n",
    "    + take the halfplane bounded by the line through **e** and locally containing **P** in the vicinity of **e**\n",
    "+ compute the intersection of the obtained n halfplanes = Ker(P)\n",
    "<img src=\"./assets/31.jpg\" alt=\"drawing\" width=\"150\"/>\n",
    "\n",
    "#### Check if a point q is inclusion in P\n",
    "- Use the same algorithm as convex polygon\n",
    "    + with point **z** is 1 point from **Ker(P)**\n",
    "\n",
    "<img src=\"./assets/32.jpg\" alt=\"drawing\" width=\"150\"/>"
   ]
  }
 ],
 "metadata": {
  "kernelspec": {
   "display_name": "Python 3.6",
   "language": "python",
   "name": "py36"
  },
  "language_info": {
   "codemirror_mode": {
    "name": "ipython",
    "version": 3
   },
   "file_extension": ".py",
   "mimetype": "text/x-python",
   "name": "python",
   "nbconvert_exporter": "python",
   "pygments_lexer": "ipython3",
   "version": "3.6.9"
  }
 },
 "nbformat": 4,
 "nbformat_minor": 2
}
