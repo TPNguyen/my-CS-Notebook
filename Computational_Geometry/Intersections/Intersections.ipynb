{
 "cells": [
  {
   "cell_type": "markdown",
   "metadata": {},
   "source": []
  },
  {
   "cell_type": "markdown",
   "metadata": {},
   "source": [
    "# Algorithms\n",
    "## Data structures\n",
    "#### Sweep line status\n",
    "- Fast insertion and deletion of a segment\n",
    "<img src=\"./assets/9.jpg\" alt=\"drawing\" width=\"200\"/>\n",
    "\n",
    "- Modified **Balanced Binary Search Tree** to store all P vertices\n",
    "    + Leaves \n",
    "        + store points from P\n",
    "    + Internal node v\n",
    "        + Store a splitting value $x_v$ to guide the search\n",
    "        + left-subtree of v\n",
    "            + Contain all the points: smaller or equal to $x_v$\n",
    "        + right-subtree of v\n",
    "            + Contain all the points: strictly greater than $x_v$\n",
    "\n",
    "<img src=\"./assets/10.jpg\" alt=\"drawing\" width=\"200\"/>\n"
   ]
  }
 ],
 "metadata": {
  "kernelspec": {
   "display_name": "Python 3.6",
   "language": "python",
   "name": "py36"
  },
  "language_info": {
   "codemirror_mode": {
    "name": "ipython",
    "version": 3
   },
   "file_extension": ".py",
   "mimetype": "text/x-python",
   "name": "python",
   "nbconvert_exporter": "python",
   "pygments_lexer": "ipython3",
   "version": "3.6.9"
  }
 },
 "nbformat": 4,
 "nbformat_minor": 2
}
