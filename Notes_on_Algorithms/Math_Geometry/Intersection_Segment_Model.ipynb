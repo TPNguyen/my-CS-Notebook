{
 "cells": [
  {
   "cell_type": "markdown",
   "metadata": {},
   "source": [
    "#### Segment model\n",
    "```C++\n",
    "struct Segment {\n",
    "    int start;\n",
    "    int end;\n",
    "    Segment() : start(0), end(0) {}\n",
    "    Segment(int s, int e) : start(s), end(e) {}\n",
    "};\n",
    "vector<Segment> segments;\n",
    "```\n",
    "\n",
    "#### Intersection model\n",
    "<img src=\"./img/1.jpg\" alt=\"drawing\" width=\"700\"/>\n",
    "\n",
    "\n",
    "```C++\n",
    "map<int, pair<int,int>> intersections;\n",
    "map<int, pair<int,int>>::iterator it;\n",
    "\n",
    "it->first: coordinator\n",
    "it->second.first: number of starts\n",
    "it->second.second: number of ends\n",
    "```\n",
    "\n",
    "#### Convert segments -> intersections\n",
    "```C++\n",
    "int N = segments.size();\n",
    "for(int i=0; i<N; ++i) {\n",
    "    // Add segment start\n",
    "    it = intersections.find(segments[i].start);\n",
    "    if(it == intersections.end()) {\n",
    "        intersections.insert( {segments[i].start, {1,0}} );\n",
    "    } else {\n",
    "        ++(it->second.first);\n",
    "    }\n",
    "\n",
    "    // Add segment end\n",
    "    it = intersections.find(segments[i].end);\n",
    "    if(it == intersections.end()) {\n",
    "        intersections.insert( {segments[i].end, {0,1}} );\n",
    "    } else {\n",
    "        ++(it->second.second);\n",
    "    }\n",
    "}\n",
    "```\n",
    "\n",
    "#### Runner technique on intersections model\n",
    "```C++\n",
    "int runner = 0;\n",
    "for(it=intersections.begin(); it!=intersections.end(); ++it) {\n",
    "\n",
    "    runner += (it->second.first - it->second.second);\n",
    "\n",
    "}\n",
    "```"
   ]
  }
 ],
 "metadata": {
  "kernelspec": {
   "display_name": "Python 3.6",
   "language": "python",
   "name": "py36"
  },
  "language_info": {
   "codemirror_mode": {
    "name": "ipython",
    "version": 3
   },
   "file_extension": ".py",
   "mimetype": "text/x-python",
   "name": "python",
   "nbconvert_exporter": "python",
   "pygments_lexer": "ipython3",
   "version": "3.6.6"
  }
 },
 "nbformat": 4,
 "nbformat_minor": 2
}
