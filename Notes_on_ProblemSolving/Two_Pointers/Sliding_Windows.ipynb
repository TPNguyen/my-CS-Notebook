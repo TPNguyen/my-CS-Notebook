{
 "cells": [
  {
   "cell_type": "markdown",
   "metadata": {},
   "source": [
    "## [Longest Substring Without Repeating Characters](https://leetcode.com/problems/longest-substring-without-repeating-characters/)\n",
    "- Given a string, find the length of the longest substring without repeating characters.\n",
    "- Example 1\n",
    "```\n",
    "Input: \"abcabcbb\"\n",
    "Output: 3 \n",
    "Explanation: The answer is \"abc\", with the length of 3. \n",
    "```\n",
    "- Example 2\n",
    "```\n",
    "Input: \"bbbbb\"\n",
    "Output: 1\n",
    "Explanation: The answer is \"b\", with the length of 1.\n",
    "```\n",
    "- Example 3\n",
    "```\n",
    "Input: \"pwwkew\"\n",
    "Output: 3\n",
    "Explanation: The answer is \"wke\", with the length of 3. \n",
    "             Note that the answer must be a substring, \"pwke\" is a subsequence and not a substring.\n",
    "```"
   ]
  },
  {
   "cell_type": "markdown",
   "metadata": {},
   "source": [
    "## O($n^3$)\n",
    "\n",
    "```C++\n",
    "bool checkUniqueSubStr() // O(n)\n",
    "int lengthOfLongestSubstring(const string &s) {\n",
    "       FOR(a,0,N-1) FOR(b,a+1,N) {\n",
    "           checkUniqueSubStr(a,b);\n",
    "       }\n",
    "    }\n",
    "```"
   ]
  },
  {
   "cell_type": "markdown",
   "metadata": {},
   "source": [
    "## O(n)\n",
    "#### Sliding window\n",
    "- Slide 2 pointers a,b\n",
    "    + Start a,b at 0\n",
    "- check s[b]\n",
    "    + If in window: increase a\n",
    "    + Else: increase b\n",
    "- Max length = max window size\n",
    "\n",
    "#### Solution\n",
    "```C++\n",
    "class Solution {\n",
    "private:\n",
    "    int N;\n",
    "    string s_;\n",
    "public:\n",
    "    int lengthOfLongestSubstring(const string &s) {\n",
    "        // Init class variables\n",
    "        N = s.size();\n",
    "        s_ = s;\n",
    "\n",
    "        // Init local variables\n",
    "        unordered_set<char> window;\n",
    "        int result = 0;\n",
    "        int a = 0;\n",
    "        int b = 0;\n",
    "\n",
    "        while(b < N) {\n",
    "            auto it = window.find(s_[b]);\n",
    "            if(it != window.end()) {\n",
    "                window.erase(s_[a++]);\n",
    "            } else {\n",
    "                window.insert(s_[b++]);\n",
    "            }\n",
    "\n",
    "            result = max(result, (int)window.size());\n",
    "        }\n",
    "        return result;\n",
    "    }\n",
    "};\n",
    "```"
   ]
  }
 ],
 "metadata": {
  "kernelspec": {
   "display_name": "Python 3.6",
   "language": "python",
   "name": "py36"
  },
  "language_info": {
   "codemirror_mode": {
    "name": "ipython",
    "version": 3
   },
   "file_extension": ".py",
   "mimetype": "text/x-python",
   "name": "python",
   "nbconvert_exporter": "python",
   "pygments_lexer": "ipython3",
   "version": "3.6.6"
  }
 },
 "nbformat": 4,
 "nbformat_minor": 2
}
