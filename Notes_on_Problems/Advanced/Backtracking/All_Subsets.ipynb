{
 "cells": [
  {
   "cell_type": "markdown",
   "metadata": {},
   "source": [
    "## All subsets of n\n",
    "- Print all $2^n$ subsets of the set: (0,1,2,...n-1)\n",
    "- Example:\n",
    "\n",
    "```\n",
    "n = 2\n",
    "    {}\n",
    "    1 \n",
    "    0 \n",
    "    0 1\n",
    "    \n",
    "n = 3\n",
    "    {}\n",
    "    2 \n",
    "    1 \n",
    "    1 2 \n",
    "    0 \n",
    "    0 2 \n",
    "    0 1 \n",
    "    0 1 2 \n",
    "```\n",
    "\n",
    "#### Solution\n",
    "- dfs the tree\n",
    "\n",
    "<img src=\"./img/4.jpg\" alt=\"drawing\" width=\"800\"/>\n",
    "\n",
    "\n",
    "```C++\n",
    "int n = 3;\n",
    "\n",
    "// f(0)\n",
    "vector<int> subset;\n",
    "void f(int x) {\n",
    "    if(x == n) {\n",
    "        // print subset\n",
    "        for(int i=0; i<subset.size(); ++i)\n",
    "            cout << subset[i] << ' ';\n",
    "        cout << endl;\n",
    "        return;\n",
    "    }\n",
    "\n",
    "    for(int c=0; c<2; ++c) {\n",
    "        // Add x\n",
    "        if(c == 0) {\n",
    "            subset.push_back(x);\n",
    "            f(x+1);\n",
    "        }\n",
    "\n",
    "        // Not add x\n",
    "        if(c == 1) {\n",
    "            subset.pop_back();\n",
    "            f(x+1);\n",
    "        }\n",
    "    }\n",
    "}\n",
    "```"
   ]
  }
 ],
 "metadata": {
  "kernelspec": {
   "display_name": "Python 3.6",
   "language": "python",
   "name": "py36"
  },
  "language_info": {
   "codemirror_mode": {
    "name": "ipython",
    "version": 3
   },
   "file_extension": ".py",
   "mimetype": "text/x-python",
   "name": "python",
   "nbconvert_exporter": "python",
   "pygments_lexer": "ipython3",
   "version": "3.6.6"
  }
 },
 "nbformat": 4,
 "nbformat_minor": 2
}
