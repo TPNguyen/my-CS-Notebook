{
 "cells": [
  {
   "cell_type": "markdown",
   "metadata": {},
   "source": [
    "## [Generate all Permutations with duplicates](https://leetcode.com/problems/permutations-ii/)\n",
    "\n",
    "- Given a collection of numbers that might contain duplicates, return all possible unique permutations.\n",
    "- Example\n",
    "\n",
    "```\n",
    "Input: [1,1,2]\n",
    "Output:\n",
    "[\n",
    "  [1,1,2],\n",
    "  [1,2,1],\n",
    "  [2,1,1]\n",
    "]\n",
    "```\n",
    "\n",
    "\n",
    "#### Solution\n",
    "- Sort the array to skip the duplicates\n",
    "\n",
    "```C++\n",
    "class Solution {\n",
    "public:\n",
    "    int N;\n",
    "    vector<int> a;\n",
    "\n",
    "    vector<vector<int>> ans;\n",
    "\n",
    "    vector<bool> chosen;\n",
    "    vector<int> permu;\n",
    "    void dfs(int x) {\n",
    "        if(x == N) {\n",
    "            ans.push_back(permu);\n",
    "            return;\n",
    "        }\n",
    "        for(int c=0; c<N; ++c) {\n",
    "            if(chosen[c]) continue;\n",
    "            if(c > 0 && a[c] == a[c-1] && !chosen[c-1]) continue; // skip the duplicates\n",
    "\n",
    "            permu.push_back(a[c]);\n",
    "            chosen[c] = true;\n",
    "\n",
    "            dfs(x+1);\n",
    "\n",
    "            permu.pop_back();\n",
    "            chosen[c] = false;\n",
    "        }\n",
    "    }\n",
    "    vector<vector<int>> permuteUnique(vector<int>& nums) {\n",
    "        a = nums;\n",
    "        N = a.size();\n",
    "        chosen.assign(N, false);\n",
    "\n",
    "        sort(a.begin(), a.end());\n",
    "        dfs(0);\n",
    "        return ans;\n",
    "    }\n",
    "};\n",
    "```"
   ]
  }
 ],
 "metadata": {
  "kernelspec": {
   "display_name": "Python 3.6",
   "language": "python",
   "name": "py36"
  },
  "language_info": {
   "codemirror_mode": {
    "name": "ipython",
    "version": 3
   },
   "file_extension": ".py",
   "mimetype": "text/x-python",
   "name": "python",
   "nbconvert_exporter": "python",
   "pygments_lexer": "ipython3",
   "version": "3.6.6"
  }
 },
 "nbformat": 4,
 "nbformat_minor": 2
}
