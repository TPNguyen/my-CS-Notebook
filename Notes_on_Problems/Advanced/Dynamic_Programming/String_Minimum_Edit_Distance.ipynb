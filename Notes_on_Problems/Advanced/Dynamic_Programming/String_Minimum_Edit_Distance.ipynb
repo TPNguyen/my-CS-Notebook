{
 "cells": [
  {
   "cell_type": "markdown",
   "metadata": {},
   "source": [
    "## Minimum Edit Distance\n",
    "- The edit distance between two strings is the minimum number of operations \n",
    "    + insertions\n",
    "    + deletions\n",
    "    + substitutions of symbols to transform one string into another \n",
    "- It is a measure of similarity of two strings.\n",
    "<img src=\"./img/1.jpg\" alt=\"drawing\" width=\"1000\"/>\n",
    "\n",
    "\n",
    "## Solution\n",
    "\n",
    "```C++\n",
    "// s1,s2 start at 0\n",
    "string s1,s2;\n",
    "\n",
    "int dp[103][103];\n",
    "int solveDP() {\n",
    "    int N1 = s1.size();\n",
    "    int N2 = s2.size();\n",
    "\n",
    "    // Init DP\n",
    "    ms(dp,0x7f);\n",
    "    dp[0][0] = 0;\n",
    "\n",
    "    FOR(x1,0,N1+1) FOR(x2,0,N2+1) {\n",
    "        int cur = dp[x1][x2]; \n",
    "\n",
    "        if(cur == inf) \n",
    "            continue;\n",
    "\n",
    "        // Case: Similar - No cost\n",
    "        if(s1[x1] == s2[x2]) {\n",
    "            if(x1+1 <= N1 && x2+1 <= N2)\n",
    "                dp[x1+1][x2+1] = min(dp[x1+1][x2+1], cur);\n",
    "\n",
    "        // Case: Not similar - Must Edit\n",
    "        } else {\n",
    "            // Insert s1\n",
    "            if(x1+1 <= N1)\n",
    "                dp[x1+1][x2] = min(dp[x1+1][x2], cur + 1);\n",
    "\n",
    "            // Delete s1\n",
    "            if(x2+1 <= N2)\n",
    "                dp[x1][x2+1] = min(dp[x1][x2+1], cur + 1);\n",
    "\n",
    "            // Substitute\n",
    "            if(x1+1 <= N1 && x2+1 <= N2)\n",
    "                dp[x1+1][x2+1] = min(dp[x1+1][x2+1], cur + 1);\n",
    "        }\n",
    "    }\n",
    "    return dp[N1][N2];\n",
    "}\n",
    "```\n",
    "\n",
    "<img src=\"./img/2.jpg\" alt=\"drawing\" width=\"1000\"/>"
   ]
  }
 ],
 "metadata": {
  "kernelspec": {
   "display_name": "Python 3.6",
   "language": "python",
   "name": "py36"
  },
  "language_info": {
   "codemirror_mode": {
    "name": "ipython",
    "version": 3
   },
   "file_extension": ".py",
   "mimetype": "text/x-python",
   "name": "python",
   "nbconvert_exporter": "python",
   "pygments_lexer": "ipython3",
   "version": "3.6.6"
  }
 },
 "nbformat": 4,
 "nbformat_minor": 2
}
