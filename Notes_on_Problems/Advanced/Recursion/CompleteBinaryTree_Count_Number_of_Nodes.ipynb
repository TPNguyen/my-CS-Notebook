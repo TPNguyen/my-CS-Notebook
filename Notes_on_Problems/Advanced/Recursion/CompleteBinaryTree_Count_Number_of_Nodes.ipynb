{
 "cells": [
  {
   "cell_type": "markdown",
   "metadata": {},
   "source": [
    "## [Count Complete Tree Nodes](https://leetcode.com/problems/count-complete-tree-nodes/)\n",
    "\n",
    "- Given a complete binary tree, count the number of nodes.\n",
    "- Example\n",
    "\n",
    "```\n",
    "Input: \n",
    "    1\n",
    "   / \\\n",
    "  2   3\n",
    " / \\  /\n",
    "4  5 6\n",
    "\n",
    "Output: 6\n",
    "```\n"
   ]
  },
  {
   "cell_type": "markdown",
   "metadata": {},
   "source": [
    "#### Solution\n",
    "\n",
    "```C++\n",
    "class Solution {\n",
    "public:\n",
    "    int get_height(TreeNode* cur) {\n",
    "        if(cur == NULL) return 0;\n",
    "\n",
    "        return 1 + get_height(cur->left);\n",
    "    }\n",
    "    int get(TreeNode* cur) {\n",
    "        if(cur == NULL) return 0;\n",
    "\n",
    "        // Get height of the left and right subtree\n",
    "        int l_h = get_height(cur->left);\n",
    "        int r_h = get_height(cur->right);\n",
    "\n",
    "        if(l_h == r_h) return (1 << l_h) + get(cur->right);\n",
    "\n",
    "        return (1 << r_h) + get(cur->left); \n",
    "    }\n",
    "    int countNodes(TreeNode* root) {\n",
    "        return get(root);\n",
    "    }\n",
    "};\n",
    "```"
   ]
  },
  {
   "cell_type": "markdown",
   "metadata": {},
   "source": [
    "#### Solution\n",
    "\n",
    "```C++\n",
    "class Solution {\n",
    "public:\n",
    "    int get_depth_left(TreeNode* cur) {\n",
    "        if(cur == NULL) return 0;\n",
    "        return 1 + get_depth_left(cur->left);\n",
    "    }\n",
    "    int get_depth_right(TreeNode* cur) {\n",
    "        if(cur == NULL) return 0;\n",
    "        return 1 + get_depth_right(cur->right);\n",
    "    }\n",
    "    int get(TreeNode* cur) {\n",
    "        if(cur == NULL) return 0;\n",
    "\n",
    "        // Get height of the left and right subtree\n",
    "        int l_h = get_depth_left(cur);\n",
    "        int r_h = get_depth_right(cur);\n",
    "\n",
    "        if(l_h == r_h) return (1 << l_h) - 1;\n",
    "\n",
    "        return 1 + get(cur->left) + get(cur->right); \n",
    "    }\n",
    "    int countNodes(TreeNode* root) {\n",
    "        return get(root);\n",
    "    }\n",
    "};\n",
    "```"
   ]
  }
 ],
 "metadata": {
  "kernelspec": {
   "display_name": "Python 3.6",
   "language": "python",
   "name": "py36"
  },
  "language_info": {
   "codemirror_mode": {
    "name": "ipython",
    "version": 3
   },
   "file_extension": ".py",
   "mimetype": "text/x-python",
   "name": "python",
   "nbconvert_exporter": "python",
   "pygments_lexer": "ipython3",
   "version": "3.6.6"
  }
 },
 "nbformat": 4,
 "nbformat_minor": 2
}
