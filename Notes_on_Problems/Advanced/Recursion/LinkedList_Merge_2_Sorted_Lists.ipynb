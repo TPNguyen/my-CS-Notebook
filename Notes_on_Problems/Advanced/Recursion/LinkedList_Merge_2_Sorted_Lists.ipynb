{
 "cells": [
  {
   "cell_type": "markdown",
   "metadata": {},
   "source": [
    "## Merge Two Sorted Lists(https://leetcode.com/problems/merge-two-sorted-lists/)\n",
    "\n",
    "- Merge two sorted linked lists and return it as a new list.\n",
    "- Example\n",
    "\n",
    "```\n",
    "Input: 1->2->4, 1->3->4\n",
    "Output: 1->1->2->3->4->4\n",
    "```\n",
    "\n",
    "#### Solution\n",
    "\n",
    "```C++\n",
    "class Solution {\n",
    "public:\n",
    "    ListNode* get(ListNode* l1, ListNode* l2) {\n",
    "        if(l1 == NULL) return l2;\n",
    "        if(l2 == NULL) return l1;\n",
    "\n",
    "        // Case val1 < val2\n",
    "        if(l1->val < l2->val) {\n",
    "            l1->next = get(l1->next, l2);\n",
    "            return l1;\n",
    "        }\n",
    "\n",
    "        // Case val2 <= val1\n",
    "        l2->next = get(l1, l2->next);\n",
    "        return l2;\n",
    "    }\n",
    "\n",
    "    ListNode* mergeTwoLists(ListNode* l1, ListNode* l2) {\n",
    "        return get(l1, l2);\n",
    "    }\n",
    "};\n",
    "```"
   ]
  }
 ],
 "metadata": {
  "kernelspec": {
   "display_name": "Python 3.6",
   "language": "python",
   "name": "py36"
  },
  "language_info": {
   "codemirror_mode": {
    "name": "ipython",
    "version": 3
   },
   "file_extension": ".py",
   "mimetype": "text/x-python",
   "name": "python",
   "nbconvert_exporter": "python",
   "pygments_lexer": "ipython3",
   "version": "3.6.6"
  }
 },
 "nbformat": 4,
 "nbformat_minor": 2
}
