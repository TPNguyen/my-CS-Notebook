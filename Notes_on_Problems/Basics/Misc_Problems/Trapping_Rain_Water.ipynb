{
 "cells": [
  {
   "cell_type": "markdown",
   "metadata": {},
   "source": [
    "## [Trapping Rain Water](https://leetcode.com/problems/trapping-rain-water/)\n",
    "- Given n non-negative integers representing an elevation map where the width of each bar is 1, compute how much water it is able to trap after raining.\n",
    "\n",
    "<img src=\"./img/1.png\" alt=\"drawing\" width=\"650\"/>\n",
    "\n",
    "- Example\n",
    "```\n",
    "Input: [0,1,0,2,1,0,1,3,2,1,2,1]\n",
    "Output: 6\n",
    "```\n",
    "\n",
    "#### Solution\n",
    "###### Observations\n",
    "- Trap_water[i] hold by peak to the right and peak to the left\n",
    "- Amount of water[i] = min(right_peak, left_peak) - height[i]\n",
    "- Rear cell(0, N-1) cant hold water\n",
    "\n",
    "```C++\n",
    "class Solution {\n",
    "public:\n",
    "    int trap(vector<int>& height) {\n",
    "        int N = height.size();\n",
    "        int runner;\n",
    "        int water;\n",
    "        \n",
    "        // Cache peak left\n",
    "        vector<int> peak_left(N, 0);\n",
    "        runner = 0;\n",
    "        for(int i=0; i<N; ++i) {\n",
    "            peak_left[i] = runner = max(height[i], runner);\n",
    "        }\n",
    "\n",
    "        // Cache peak right\n",
    "        vector<int> peak_right(N, 0);\n",
    "        runner = 0;\n",
    "        for(int i=N-1; i>=0; --i) {\n",
    "            peak_right[i] = runner = max(height[i], runner);\n",
    "        }\n",
    "\n",
    "        // Find the trapping water\n",
    "        water = 0;\n",
    "        for(int i=1; i<N-1; ++i) {\n",
    "            if(height[i] < peak_left[i-1] && height[i] < peak_right[i+1]) {\n",
    "                water += min(peak_left[i-1], peak_right[i+1]) - height[i];\n",
    "            }\n",
    "        }\n",
    "\n",
    "        return water;\n",
    "    }\n",
    "};\n",
    "```"
   ]
  }
 ],
 "metadata": {
  "kernelspec": {
   "display_name": "Python 3.6",
   "language": "python",
   "name": "py36"
  },
  "language_info": {
   "codemirror_mode": {
    "name": "ipython",
    "version": 3
   },
   "file_extension": ".py",
   "mimetype": "text/x-python",
   "name": "python",
   "nbconvert_exporter": "python",
   "pygments_lexer": "ipython3",
   "version": "3.6.6"
  }
 },
 "nbformat": 4,
 "nbformat_minor": 2
}
