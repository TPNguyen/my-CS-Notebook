{
 "cells": [
  {
   "cell_type": "markdown",
   "metadata": {},
   "source": [
    "## Selection Sort\n",
    "- Time complexity - O($n^2$)\n",
    "- Space complexity - O(1) \n",
    "<img src=\"./img/seletionsort.jpg\" alt=\"drawing\" width=\"900\"/>\n",
    "\n",
    "\n",
    "```C++\n",
    "void selectionSort(vector<int> &nums) {\n",
    "    // Partition\n",
    "    //      sorted_part: nums[<p]\n",
    "    //      pivot element: p\n",
    "    //      unsorted_part: nums[>p]\n",
    "    for(int p=0; p<nums.size()-1; ++p) {\n",
    "\n",
    "        // Select the smallest element in unsorted array\n",
    "        int minValue = nums[p];\n",
    "        int minIndex = p;\n",
    "        for(int i=p+1; i<nums.size(); ++i) {\n",
    "            if(nums[i] < minValue) {\n",
    "                minValue = nums[i];\n",
    "                minIndex = i;\n",
    "            }\n",
    "        }\n",
    "\n",
    "        // Swap the smallest with the pivot\n",
    "        swap(nums[p], nums[minIndex]);\n",
    "    }\n",
    "}\n",
    "```"
   ]
  }
 ],
 "metadata": {
  "kernelspec": {
   "display_name": "Python 3.6",
   "language": "python",
   "name": "py36"
  },
  "language_info": {
   "codemirror_mode": {
    "name": "ipython",
    "version": 3
   },
   "file_extension": ".py",
   "mimetype": "text/x-python",
   "name": "python",
   "nbconvert_exporter": "python",
   "pygments_lexer": "ipython3",
   "version": "3.6.6"
  }
 },
 "nbformat": 4,
 "nbformat_minor": 2
}
