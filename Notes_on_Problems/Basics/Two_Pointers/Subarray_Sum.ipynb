{
 "cells": [
  {
   "cell_type": "markdown",
   "metadata": {},
   "source": [
    "## [Subarray Sum equals K](https://leetcode.com/problems/subarray-sum-equals-k)\n",
    "- Given an array of integers and an integer k, you need to find the total number of continuous subarrays whose sum equals to k.\n",
    "- Example\n",
    "```\n",
    "Input:nums = [1,1,1], k = 2\n",
    "Output: 2\n",
    "```\n"
   ]
  },
  {
   "cell_type": "markdown",
   "metadata": {},
   "source": [
    "## O($n^2$)\n",
    "- Build prefix sum\n",
    "- Find a,b in $O(n^2)$\n",
    "\n",
    "```C++\n",
    "vector<int> cache_;\n",
    "void build() {\n",
    "    cache_.assign(N+1, 0);\n",
    "\n",
    "    int sum_ = 0;\n",
    "    for(int i=1; i<=N; ++i) {\n",
    "        cache_[i] = sum_ += a[i-1];\n",
    "    }\n",
    "}\n",
    "int query(int a, int b) {\n",
    "    return cache_[b+1] - cache_[a];\n",
    "}\n",
    "\n",
    "```"
   ]
  },
  {
   "cell_type": "markdown",
   "metadata": {},
   "source": [
    "## O(n)\n",
    "#### Notes\n",
    "- Build prefix sum\n",
    "- Use hash table - Group repeated element -> unordered_map<int,int> = {cache_[a], occurrences} \n",
    "- Online algorithm\n",
    "    + k = cache_[b+1] - cache_[a]   --> find if cache_[a] exist and number of occurrences\n",
    "    + cache_[a] = cache[b+1] - k\n",
    "- If all positive integer consider binary search (cache_ increasing)\n",
    "\n",
    "#### Solution\n",
    "```C++\n",
    "class Solution {\n",
    "private:\n",
    "    int N;\n",
    "    vector<int> nums_;\n",
    "\n",
    "    vector<int> cache_;\n",
    "    unordered_map<int, int> table_;\n",
    "public:\n",
    "    int subarraySum(const vector<int>& nums, int k) {\n",
    "        // Init class variables\n",
    "        N = nums.size();\n",
    "        nums_ = nums;\n",
    "        cache_.assign(N+1, 0);\n",
    "\n",
    "        // Init local variables\n",
    "        int sum = 0;\n",
    "        int counts = 0;\n",
    "        table_[0] = 1;\n",
    "\n",
    "        // \n",
    "        for(int b=1; b<=N; ++b) {\n",
    "            // Update cache \n",
    "            cache_[b] = sum += nums_[b-1];\n",
    "\n",
    "            // find cache_[a] and its occurrences\n",
    "            auto it = table_.find(cache_[b] - k);\n",
    "            if(it != table_.end())\n",
    "                counts += it->second;\n",
    "\n",
    "            // Update hash table\n",
    "            it = table_.find(cache_[b]);\n",
    "            if(it == table_.end())\n",
    "                table_[sum] = 1;\n",
    "            else\n",
    "                ++table_[sum];\n",
    "            \n",
    "        }\n",
    "        return counts;\n",
    "    }\n",
    "};\n",
    "```"
   ]
  }
 ],
 "metadata": {
  "kernelspec": {
   "display_name": "Python 3.6",
   "language": "python",
   "name": "py36"
  },
  "language_info": {
   "codemirror_mode": {
    "name": "ipython",
    "version": 3
   },
   "file_extension": ".py",
   "mimetype": "text/x-python",
   "name": "python",
   "nbconvert_exporter": "python",
   "pygments_lexer": "ipython3",
   "version": "3.6.6"
  }
 },
 "nbformat": 4,
 "nbformat_minor": 2
}
