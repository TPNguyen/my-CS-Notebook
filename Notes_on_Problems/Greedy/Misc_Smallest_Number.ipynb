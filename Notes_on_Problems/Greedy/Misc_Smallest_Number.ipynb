{
 "cells": [
  {
   "cell_type": "markdown",
   "metadata": {},
   "source": [
    "# Problem\n",
    "- Given\n",
    "    + `D`: Number of digits\n",
    "    + `S`: Total sum of the digits\n",
    "- Find the smallest number that satisfied `D` and `S`\n",
    "\n",
    "#### Example\n",
    "- D = 2, S = 9\n",
    "    + `18`\n",
    "- D = 3, S = 10\n",
    "    + `109`"
   ]
  },
  {
   "cell_type": "markdown",
   "metadata": {},
   "source": [
    "# Solution\n",
    "#### Analysis\n",
    "- Greedy solution: head = 1, tail = 9, fill up the middle right -> left by largest possible (9)\n",
    "- if there are still remaining add to head\n",
    "\n",
    "#### Solution\n",
    "\n",
    "```cpp\n",
    "string solve(int D, int S) {\n",
    "    if(D == 1) return to_string(S);\n",
    "\n",
    "    vector<int> A(D, 0);\n",
    "\n",
    "    // head = 1\n",
    "    A[0] = 1;\n",
    "    int res = S-1;\n",
    "\n",
    "    // Fill from tail\n",
    "    for(int i=D-1; i>=1; --i) {\n",
    "        if(res <= 9) {\n",
    "            A[i] = res;\n",
    "            res = 0;\n",
    "            break;\n",
    "        }\n",
    "        A[i] = 9;\n",
    "        res -= 9;\n",
    "    }\n",
    "\n",
    "    // Add the remaining to head\n",
    "    A[0] += res;\n",
    "\n",
    "    // Convert vector to str\n",
    "    string ans = \"\";\n",
    "    for(int &a:A) ans += to_string(a);\n",
    "    return ans;\n",
    "}\n",
    "```"
   ]
  }
 ],
 "metadata": {
  "kernelspec": {
   "display_name": "Python 3.7",
   "language": "python",
   "name": "py37"
  },
  "language_info": {
   "codemirror_mode": {
    "name": "ipython",
    "version": 3
   },
   "file_extension": ".py",
   "mimetype": "text/x-python",
   "name": "python",
   "nbconvert_exporter": "python",
   "pygments_lexer": "ipython3",
   "version": "3.7.7"
  }
 },
 "nbformat": 4,
 "nbformat_minor": 4
}
