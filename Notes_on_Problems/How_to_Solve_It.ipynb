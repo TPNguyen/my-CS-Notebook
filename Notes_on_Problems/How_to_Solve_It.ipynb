{
 "cells": [
  {
   "cell_type": "markdown",
   "metadata": {},
   "source": [
    "- Rephrase the problem\n",
    "- Draw Graphic\n",
    "- Math Equations\n",
    "- Models\n",
    "- Separate Conditions\n",
    "- Find Notations"
   ]
  },
  {
   "cell_type": "markdown",
   "metadata": {},
   "source": [
    "## BFS\n",
    "- Find the fewest number of steps (or the shortest path) needed to reach a certain end point (state) from the starting one\n",
    "- Certain ways of passing from one point to another are offered, all of them having the same cost of 1\n",
    "    + NxM cell\n",
    "    + mazes, maps, cities, chessboards...\n",
    "    + states of a: strings, passcode...\n",
    "- **Problem Hints**\n",
    "    + Words can be considered as states. There are at most 26^4 different words composed of 4 letters\n",
    "    + There are some ways to pass from one state to another.\n",
    "    + The cost of passing from a state to another is always 1\n",
    "    + Need to find the minimum number of steps required to reach the end state from start state.\n",
    "    "
   ]
  }
 ],
 "metadata": {
  "kernelspec": {
   "display_name": "Python 3.6",
   "language": "python",
   "name": "py36"
  },
  "language_info": {
   "codemirror_mode": {
    "name": "ipython",
    "version": 3
   },
   "file_extension": ".py",
   "mimetype": "text/x-python",
   "name": "python",
   "nbconvert_exporter": "python",
   "pygments_lexer": "ipython3",
   "version": "3.6.6"
  }
 },
 "nbformat": 4,
 "nbformat_minor": 2
}
