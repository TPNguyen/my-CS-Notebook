{
 "cells": [
  {
   "cell_type": "markdown",
   "metadata": {},
   "source": [
    "## Steps in problem solving\n",
    "- Read -> formalize the statement\n",
    "    - Rephrase the problem\n",
    "    - Draw Graphic\n",
    "    - Math Equations\n",
    "    - Models\n",
    "    - Separate Conditions\n",
    "    - Find Notations\n",
    "- Invent a solution\n",
    "- Prove if the solution correct !!!\n",
    "    + Assume something -> write in statements -> Prove it\n",
    "    + If an assumption is wrong -> Correct it -> Prove it again\n",
    "- Implement -> Test with multiple test cases !!!"
   ]
  },
  {
   "cell_type": "markdown",
   "metadata": {},
   "source": [
    "## Testing\n",
    "#### String test pattern\n",
    "```\n",
    "aaaaaaa\n",
    "abcedef\n",
    "```"
   ]
  }
 ],
 "metadata": {
  "kernelspec": {
   "display_name": "Python 3.6",
   "language": "python",
   "name": "py36"
  },
  "language_info": {
   "codemirror_mode": {
    "name": "ipython",
    "version": 3
   },
   "file_extension": ".py",
   "mimetype": "text/x-python",
   "name": "python",
   "nbconvert_exporter": "python",
   "pygments_lexer": "ipython3",
   "version": "3.6.6"
  }
 },
 "nbformat": 4,
 "nbformat_minor": 2
}
