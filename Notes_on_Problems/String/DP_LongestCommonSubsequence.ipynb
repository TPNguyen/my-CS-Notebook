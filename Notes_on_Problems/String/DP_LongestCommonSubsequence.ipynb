{
 "cells": [
  {
   "cell_type": "markdown",
   "metadata": {},
   "source": [
    "## [Problem](https://leetcode.com/problems/longest-common-subsequence/)\n",
    "- Given 2 strings s1 and s2, return the length of their longest common subsequence.\n",
    "- A subsequence of a string is a new string generated from the original string\n",
    "    + with some characters(can be none) deleted \n",
    "    + and without changing the relative order of the remaining characters\n",
    "- Eg: \"ace\" is a subsequence of \"abcde\" while \"aec\" is not\n",
    "\n",
    "#### Example\n",
    "\n",
    "```\n",
    "Input: s1 = \"abcde\", s2 = \"ace\" \n",
    "Output: 3  \n",
    "Explanation: The longest common subsequence is \"ace\" and its length is 3.\n",
    "\n",
    "Input: s1 = \"abc\", s2 = \"abc\"\n",
    "Output: 3\n",
    "Explanation: The longest common subsequence is \"abc\" and its length is 3.\n",
    "\n",
    "Input: s1 = \"abc\", s2 = \"def\"\n",
    "Output: 0\n",
    "Explanation: There is no such common subsequence, so the result is 0.\n",
    "```\n",
    "\n",
    "#### Solution\n",
    "\n",
    "```cpp\n",
    "class LongestCommonSubsequence {\n",
    "public:\n",
    "    vector<vector<int>> dp;\n",
    "    int longestCommonSubsequence(string &s1, string &s2) {\n",
    "        int N1 = s1.size();\n",
    "        int N2 = s2.size();\n",
    "        dp.assign(N1+1, vector<int>(N2+1, 0));\n",
    "\n",
    "        for(int x1=0;x1<N1;++x1) for(int x2=0;x2<N2;++x2) {\n",
    "            if(s1[x1] == s2[x2]) dp[x1+1][x2+1] = dp[x1][x2]+1;\n",
    "            else dp[x1+1][x2+1] = max(dp[x1+1][x2], dp[x1][x2+1]);\n",
    "        }\n",
    "        return dp[N1][N2];\n",
    "    }\n",
    "};\n",
    "```"
   ]
  }
 ],
 "metadata": {
  "kernelspec": {
   "display_name": "Python 2.7.18 64-bit ('py27': conda)",
   "language": "python",
   "name": "python271864bitpy27condac920931f0d5e4b50a6775919c4a51ed8"
  },
  "language_info": {
   "codemirror_mode": {
    "name": "ipython",
    "version": 2
   },
   "file_extension": ".py",
   "mimetype": "text/x-python",
   "name": "python",
   "nbconvert_exporter": "python",
   "pygments_lexer": "ipython2",
   "version": "2.7.18"
  }
 },
 "nbformat": 4,
 "nbformat_minor": 4
}
