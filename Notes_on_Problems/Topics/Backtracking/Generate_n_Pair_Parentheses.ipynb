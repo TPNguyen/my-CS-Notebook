{
 "cells": [
  {
   "cell_type": "markdown",
   "metadata": {},
   "source": [
    "## [Generate Parentheses](https://leetcode.com/problems/generate-parentheses/)\n",
    "\n",
    "- Given n pairs of parentheses, write a function to generate all combinations of well-formed parentheses.\n",
    "- Example:\n",
    "\n",
    "```\n",
    "n = 1\n",
    "    ()\n",
    "\n",
    "n = 2\n",
    "    (())\n",
    "    ()()\n",
    "\n",
    "n = 3\n",
    "    ((()))\n",
    "    (()())\n",
    "    (())()\n",
    "    ()(())\n",
    "    ()()()\n",
    "```\n",
    "\n",
    "#### Solution\n",
    "\n",
    "```C++\n",
    "int n = 3;\n",
    "\n",
    "// f(0,0)\n",
    "string s = \"\";\n",
    "void f(int open, int close) {\n",
    "    if(s.size() == n*2) {\n",
    "        cout << s << endl;\n",
    "        return;\n",
    "    }\n",
    "\n",
    "    if(open < n) {\n",
    "        s.push_back('(');\n",
    "        f(open+1, close);\n",
    "        s.pop_back();\n",
    "    } \n",
    "\n",
    "    if(close < open) {\n",
    "        s.push_back(')');\n",
    "        f(open, close+1);\n",
    "        s.pop_back();\n",
    "    }\n",
    "}\n",
    "```\n",
    "\n"
   ]
  }
 ],
 "metadata": {
  "kernelspec": {
   "display_name": "Python 3.6",
   "language": "python",
   "name": "py36"
  },
  "language_info": {
   "codemirror_mode": {
    "name": "ipython",
    "version": 3
   },
   "file_extension": ".py",
   "mimetype": "text/x-python",
   "name": "python",
   "nbconvert_exporter": "python",
   "pygments_lexer": "ipython3",
   "version": "3.6.6"
  }
 },
 "nbformat": 4,
 "nbformat_minor": 2
}
