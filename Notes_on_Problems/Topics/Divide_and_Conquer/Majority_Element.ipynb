{
 "cells": [
  {
   "cell_type": "markdown",
   "metadata": {},
   "source": [
    "## [Majority Element](https://leetcode.com/problems/majority-element/)\n",
    "\n",
    "- Given an array of size n, find the majority element. \n",
    "- The majority element is the element that appears more than ⌊n/2⌋ times.\n",
    "- Examples\n",
    "\n",
    "```\n",
    "Input: [3,2,3]\n",
    "Output: 3\n",
    "\n",
    "\n",
    "Input: [2,2,1,1,1,2,2]\n",
    "Output: 2\n",
    "```\n",
    "\n",
    "#### Solution\n",
    "\n",
    "```C++\n",
    "class Solution {\n",
    "public:\n",
    "    vector<int> a;\n",
    "    int count(int x, int l, int r) {\n",
    "        // Count occurences of x\n",
    "        int cnt=0;\n",
    "        for(int i=l; i<=r; ++i) {\n",
    "            if(a[i] == x) ++cnt;\n",
    "        }\n",
    "        return cnt;\n",
    "    }\n",
    "    int get_majority(int l, int r) {\n",
    "        if(l == r) return a[l];\n",
    "\n",
    "        int m = l + (r-l)/2;\n",
    "        int left_x = get_majority(l, m);\n",
    "        int right_x = get_majority(m+1, r);\n",
    "\n",
    "        // Case: 2 halves have the same majority candidate\n",
    "        if(left_x == right_x) return right_x;\n",
    "\n",
    "        // Otherwise count to know\n",
    "        int left_cnt = count(left_x, l, r);\n",
    "        int right_cnt = count(right_x, l, r);\n",
    "        return left_cnt > right_cnt ? left_x : right_x;\n",
    "\n",
    "    }\n",
    "    int majorityElement(vector<int> &nums) {\n",
    "        a = nums;\n",
    "        return get_majority(0, a.size()-1);\n",
    "    }\n",
    "};\n",
    "```"
   ]
  }
 ],
 "metadata": {
  "kernelspec": {
   "display_name": "Python 3.6",
   "language": "python",
   "name": "py36"
  },
  "language_info": {
   "codemirror_mode": {
    "name": "ipython",
    "version": 3
   },
   "file_extension": ".py",
   "mimetype": "text/x-python",
   "name": "python",
   "nbconvert_exporter": "python",
   "pygments_lexer": "ipython3",
   "version": "3.6.6"
  }
 },
 "nbformat": 4,
 "nbformat_minor": 2
}
