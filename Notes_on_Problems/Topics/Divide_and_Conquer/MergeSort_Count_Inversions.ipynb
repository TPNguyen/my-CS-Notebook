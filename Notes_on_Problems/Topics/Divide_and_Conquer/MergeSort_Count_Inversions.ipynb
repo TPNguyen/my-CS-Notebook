{
 "cells": [
  {
   "cell_type": "markdown",
   "metadata": {},
   "source": [
    "## Count number of inversions in an unsorted array\n",
    "\n",
    "- Inversion Count for an array indicates – how far (or close) the array is from being sorted.\n",
    "    + If array is already sorted then inversion count is 0. \n",
    "    + If array is sorted in reverse order that inversion count is the maximum. \n",
    "- Formally speaking, two elements a[i] and a[j] form an inversion if a[i] > a[j] and i < j\n",
    "\n",
    "- **Example**:\n",
    "\n",
    "```\n",
    "Input: a = [2, 4, 1, 3, 5]\n",
    "Output: 3 \n",
    "Explanation: (2, 1), (4, 1), (4, 3).\n",
    "\n",
    "Input: a = [4, 3, 2, 1]\n",
    "Output: 6\n",
    "\n",
    "Input: a = [1, 2, 3, 4]\n",
    "Output: 0\n",
    "\n",
    "Input: a = [3, 3, 3, 3]\n",
    "Output: 0\n",
    "```\n"
   ]
  },
  {
   "cell_type": "markdown",
   "metadata": {},
   "source": [
    "#### Solution\n",
    "- Inversion count when 1st half and 2nd half not empty\n",
    "- Prefer 2nd half than 1st half\n",
    "- Inv count = size of the remaining 1st half at the moment\n",
    "\n",
    "<img src=\"./img/4.jpg\" alt=\"drawing\" width=\"650\"/>\n",
    "\n",
    "```C++\n",
    "int merge(vector<int> &nums, vector<int> &temp, int l, int m, int r) {\n",
    "    int i = l;\n",
    "    int j = m + 1;\n",
    "    int cur = 0;\n",
    "\n",
    "    int invCnt = 0;\n",
    "    while(i <= m || j <= r) {\n",
    "        if(i > m) temp[cur++] = nums[j++];\n",
    "\n",
    "        else if(j > r) temp[cur++] = nums[i++];\n",
    "\n",
    "        else if(nums[i] <= nums[j]) temp[cur++] = nums[i++];\n",
    "\n",
    "        // Prefer 2nd half: invCnt = all elements in the 1st half\n",
    "        else {\n",
    "            temp[cur++] = nums[j++];\n",
    "            invCnt += (m+1-i);\n",
    "        }\n",
    "    }\n",
    "\n",
    "    for(int i=0; i < cur; ++i) nums[l + i] = temp[i];\n",
    "    return invCnt;\n",
    "}\n",
    "int mergeSort(vector<int> &nums, vector<int> &temp, int l, int r) {\n",
    "    if(l >= r) return 0;\n",
    "\n",
    "    int m = l+(r-l)/2;\n",
    "    return  mergeSort(nums, temp, l, m) + \\\n",
    "            mergeSort(nums, temp, m+1, r) + \\\n",
    "            merge(nums, temp, l, m, r);\n",
    "}\n",
    "```"
   ]
  }
 ],
 "metadata": {
  "kernelspec": {
   "display_name": "Python 3.6",
   "language": "python",
   "name": "py36"
  },
  "language_info": {
   "codemirror_mode": {
    "name": "ipython",
    "version": 3
   },
   "file_extension": ".py",
   "mimetype": "text/x-python",
   "name": "python",
   "nbconvert_exporter": "python",
   "pygments_lexer": "ipython3",
   "version": "3.6.6"
  }
 },
 "nbformat": 4,
 "nbformat_minor": 2
}
