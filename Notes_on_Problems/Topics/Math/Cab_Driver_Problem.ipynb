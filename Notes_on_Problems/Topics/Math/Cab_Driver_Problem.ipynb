{
 "cells": [
  {
   "cell_type": "markdown",
   "metadata": {},
   "source": [
    "## Cab Driver Problem\n",
    "- Go from A to B\n",
    "    + m: horizontal blocks\n",
    "    + n: vertical blocks\n",
    "- Can only move Up or Right\n",
    "- How many routes that a cab driver go from A->B?\n",
    "\n",
    "\n",
    "<img src=\"./img/1.jpg\" alt=\"drawing\" width=\"600\"/>\n",
    "\n",
    "#### Dynamic Programming\n",
    "- Path(A,B) = Path(A, $B_1$) + Path(A, $B_2$) \n",
    "<img src=\"./img/2.jpg\" alt=\"drawing\" width=\"600\"/>\n",
    "\n",
    "```C++\n",
    "// Base case\n",
    "dp(m,0) = 1\n",
    "dp(0,n) = 1\n",
    "\n",
    "// DP\n",
    "dp(m,n) = dp(m-1,n) + dp(m, n-1)\n",
    "```\n",
    "\n",
    "#### Combinatorics\n",
    "- the route from A to B = A set of Up and Right. Ex:\n",
    "```\n",
    "    RUURURU\n",
    "    RRRUUUU\n",
    "    URURURU\n",
    "```\n",
    "- Config\n",
    "    - Path length = m + n\n",
    "    - move R: m times\n",
    "    - move U: n times\n",
    "- Distribute m Rs into (m+n) containers or n Us into (m+n) containers\n",
    "\n",
    "$$Path(A,B) = C_{m+n}^n = C_{m+n}^m$$"
   ]
  }
 ],
 "metadata": {
  "kernelspec": {
   "display_name": "Python 3.6",
   "language": "python",
   "name": "py36"
  },
  "language_info": {
   "codemirror_mode": {
    "name": "ipython",
    "version": 3
   },
   "file_extension": ".py",
   "mimetype": "text/x-python",
   "name": "python",
   "nbconvert_exporter": "python",
   "pygments_lexer": "ipython3",
   "version": "3.6.6"
  }
 },
 "nbformat": 4,
 "nbformat_minor": 2
}
