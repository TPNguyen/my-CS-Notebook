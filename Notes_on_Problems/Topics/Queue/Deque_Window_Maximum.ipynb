{
 "cells": [
  {
   "cell_type": "markdown",
   "metadata": {},
   "source": [
    "## [Sliding Window Maximum](https://leetcode.com/problems/sliding-window-maximum/)\n",
    "- Given an array nums, there is a sliding window of size k which is moving from the very left of the array to the very right. You can only see the k numbers in the window. Each time the sliding window moves right by one position. Return the max sliding window.\n",
    "\n",
    "- Example\n",
    "\n",
    "```\n",
    "Input: nums = [1,3,-1,-3,5,3,6,7], and k = 3\n",
    "Output: [3,3,5,5,6,7] \n",
    "Explanation: \n",
    "\n",
    "Window position                Max\n",
    "---------------               -----\n",
    "[1  3  -1] -3  5  3  6  7       3\n",
    " 1 [3  -1  -3] 5  3  6  7       3\n",
    " 1  3 [-1  -3  5] 3  6  7       5\n",
    " 1  3  -1 [-3  5  3] 6  7       5\n",
    " 1  3  -1  -3 [5  3  6] 7       6\n",
    " 1  3  -1  -3  5 [3  6  7]      7\n",
    "```\n",
    "\n",
    "#### Solution\n",
    "\n",
    "```C++\n",
    "class Solution {\n",
    "public:\n",
    "    vector<int> maxSlidingWindow(vector<int> &a, int k) {\n",
    "        // Store all potential candidates from [i-k+1, i]\n",
    "        //        [back] increasing (max)[front]\n",
    "        deque<int> Q;\n",
    "\n",
    "        vector<int> ans;\n",
    "        for(int i=0; i<a.size(); ++i) {\n",
    "            // Update front: Remove all element that out of window\n",
    "            while(!Q.empty() && Q.front() <= i-k) Q.pop_front();\n",
    "\n",
    "            // Update back: Remove all candidates < a[i] and add a[i] to back\n",
    "            while(!Q.empty() && a[Q.back()] < a[i]) Q.pop_back();\n",
    "            Q.push_back(i);\n",
    "\n",
    "            // get ans\n",
    "            if(i >= k-1) ans.push_back(a[Q.front()]);\n",
    "        }\n",
    "\n",
    "        return ans;\n",
    "    }\n",
    "};\n",
    "```"
   ]
  }
 ],
 "metadata": {
  "kernelspec": {
   "display_name": "Python 3.6",
   "language": "python",
   "name": "py36"
  },
  "language_info": {
   "codemirror_mode": {
    "name": "ipython",
    "version": 3
   },
   "file_extension": ".py",
   "mimetype": "text/x-python",
   "name": "python",
   "nbconvert_exporter": "python",
   "pygments_lexer": "ipython3",
   "version": "3.6.6"
  }
 },
 "nbformat": 4,
 "nbformat_minor": 2
}
