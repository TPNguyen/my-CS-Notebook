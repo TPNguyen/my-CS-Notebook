{
 "cells": [
  {
   "cell_type": "markdown",
   "metadata": {},
   "source": [
    "## [Remove Duplicate Letters](https://leetcode.com/problems/remove-duplicate-letters/)\n",
    "- Given a string which contains only lowercase letters, remove duplicate letters so that every letter appear once and only once.\n",
    "- You must make sure your result is the smallest in lexicographical order among all possible results.\n",
    "- **Examples**\n",
    "\n",
    "```\n",
    "Input: \"bcabc\"\n",
    "Output: \"abc\"\n",
    "\n",
    "Input: \"cbacdcbc\"\n",
    "Output: \"acdb\"\n",
    "```\n",
    "\n",
    "#### Solution\n",
    "- Detect the smallest lecographical char possible without missing remaining char\n",
    "- append to the new string and Remove all\n",
    "- Example: cbacdcbc  \n",
    "get(cb`a`cdcbc)  \n",
    "= a + get(`c`dcbc)  \n",
    "= ac + get(`d`b)  \n",
    "= acd + get(`b`)  \n",
    "= acdb\n",
    "\n",
    "\n",
    "```C++\n",
    "class Solution {\n",
    "public:\n",
    "    string get(const string &s) {\n",
    "        if(s.size() == 0) return \"\";\n",
    "\n",
    "        // count\n",
    "        unordered_map<char, int> cnt;\n",
    "        for(char c:s) cnt[c] += 1;\n",
    "\n",
    "        // Detect the smallest lexicographical s[pos] which all character still exist\n",
    "        int pos = 0;\n",
    "        for(int i=0; i<s.size(); ++i) {\n",
    "            if(s[i] < s[pos]) pos = i;\n",
    "\n",
    "            --cnt[s[i]];\n",
    "            if(cnt[s[i]] == 0) break;\n",
    "        }\n",
    "\n",
    "        // construct s_ = s(pos+1) remove all s[pos]\n",
    "        string s_;\n",
    "        for(const char &c:s.substr(pos+1)) if(c != s[pos]) s_.push_back(c);\n",
    "\n",
    "        return s[pos] + get(s_);\n",
    "    }\n",
    "    string removeDuplicateLetters(string &s) {\n",
    "        return get(s);\n",
    "    }\n",
    "};\n",
    "```"
   ]
  }
 ],
 "metadata": {
  "kernelspec": {
   "display_name": "Python 3.6",
   "language": "python",
   "name": "py36"
  },
  "language_info": {
   "codemirror_mode": {
    "name": "ipython",
    "version": 3
   },
   "file_extension": ".py",
   "mimetype": "text/x-python",
   "name": "python",
   "nbconvert_exporter": "python",
   "pygments_lexer": "ipython3",
   "version": "3.6.6"
  }
 },
 "nbformat": 4,
 "nbformat_minor": 2
}
