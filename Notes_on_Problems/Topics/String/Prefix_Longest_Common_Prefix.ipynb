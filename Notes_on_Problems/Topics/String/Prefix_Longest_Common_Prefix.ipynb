{
 "cells": [
  {
   "cell_type": "markdown",
   "metadata": {},
   "source": [
    "## [Longest Common Prefix](https://leetcode.com/problems/longest-common-prefix/)\n",
    "- Find the longest common prefix string amongst an array of strings.\n",
    "- **Examples**\n",
    "\n",
    "```\n",
    "Input: [\"flower\",\"flow\",\"flight\"]\n",
    "Output: \"fl\"\n",
    "\n",
    "Input: [\"dog\",\"racecar\",\"car\"]\n",
    "Output: \"\"\n",
    "Explanation: There is no common prefix among the input strings.\n",
    "```\n",
    "\n",
    "#### Solution\n",
    "\n",
    "```C++\n",
    "class Solution {\n",
    "public:\n",
    "    string LCP(string &s1, string &s2) {\n",
    "        if(s1.size() == 0 || s2.size() == 0) return \"\";\n",
    "        int x1 = 0;\n",
    "        int x2 = 0;\n",
    "\n",
    "        string res = \"\";\n",
    "        while(x1<s1.size() || x2<s2.size()) {\n",
    "            if(s1[x1] != s2[x2]) break;\n",
    "\n",
    "            res.push_back(s1[x1]);\n",
    "            ++x1;\n",
    "            ++x2;\n",
    "        }\n",
    "        return res;\n",
    "    }\n",
    "    string longestCommonPrefix(vector<string>& strs) {\n",
    "        if(strs.size() == 0) return \"\";\n",
    "\n",
    "        string ans = strs[0];\n",
    "        for(int i=1; i<strs.size(); ++i) ans = LCP(ans, strs[i]);\n",
    "        return ans;\n",
    "    }\n",
    "};\n",
    "```"
   ]
  }
 ],
 "metadata": {
  "kernelspec": {
   "display_name": "Python 3.6",
   "language": "python",
   "name": "py36"
  },
  "language_info": {
   "codemirror_mode": {
    "name": "ipython",
    "version": 3
   },
   "file_extension": ".py",
   "mimetype": "text/x-python",
   "name": "python",
   "nbconvert_exporter": "python",
   "pygments_lexer": "ipython3",
   "version": "3.6.6"
  }
 },
 "nbformat": 4,
 "nbformat_minor": 2
}
