{
 "cells": [
  {
   "cell_type": "markdown",
   "metadata": {},
   "source": [
    "\n",
    "## [Longest Collatz sequence](https://projecteuler.net/problem=14)\n",
    "- The following iterative sequence is defined for the set of positive integers:\n",
    "    + n -> n/2 (n is even)\n",
    "    + n -> 3n + 1 (n is odd)\n",
    "- Example starting num = 13\n",
    "    + 13 → 40 → 20 → 10 → 5 → 16 → 8 → 4 → 2 → 1\n",
    "    + len = 10 terms\n",
    "    \n",
    "- Although it has not been proved yet (Collatz Problem), it is thought that all starting numbers always finish at 1.\n",
    "- Which starting number, under one million, produces the longest chain?\n",
    "\n",
    "- **NOTE**: Once the chain starts the terms are allowed to go above one million.\n",
    "\n",
    "#### Solution\n",
    "\n",
    "```C++\n",
    "pair<int, int> SEARCH_RANGE = {7e5, 1e6};\n",
    "const int MAX_ODD_ALLOWED = 1e9;\n",
    "\n",
    "unordered_map<int, int> dp;\n",
    "int get(int x, int pre) {\n",
    "    if(x<0) return 0;\n",
    "    if(x==1) return 1;\n",
    "\n",
    "    // Case overflown: Stop calculating odd case\n",
    "    if(x >= MAX_ODD_ALLOWED && x%2==1) return dp[pre] + 1;\n",
    "\n",
    "    if(dp.count(x) != NULL) return dp[x];\n",
    "\n",
    "    // Case even\n",
    "    if(x%2==0) dp[x] = get(x/2, x) + 1;\n",
    "\n",
    "    // Case odd\n",
    "    else dp[x] = get(3*x+1, x) + 1;\n",
    "\n",
    "    return dp[x];\n",
    "}\n",
    "\n",
    "void solve() {\n",
    "    dp.clear();\n",
    "\n",
    "    int ans = 1;\n",
    "    int len = 1;\n",
    "    for(int x=SEARCH_RANGE.first; x<=SEARCH_RANGE.second; ++x) {\n",
    "        if(len < get(x, 1)) {\n",
    "            ans = x;\n",
    "            len = get(x, 1);\n",
    "        }\n",
    "    }\n",
    "    cout << ans;\n",
    "}\n",
    "```"
   ]
  }
 ],
 "metadata": {
  "kernelspec": {
   "display_name": "Python 3.6",
   "language": "python",
   "name": "py36"
  },
  "language_info": {
   "codemirror_mode": {
    "name": "ipython",
    "version": 3
   },
   "file_extension": ".py",
   "mimetype": "text/x-python",
   "name": "python",
   "nbconvert_exporter": "python",
   "pygments_lexer": "ipython3",
   "version": "3.6.6"
  }
 },
 "nbformat": 4,
 "nbformat_minor": 2
}
