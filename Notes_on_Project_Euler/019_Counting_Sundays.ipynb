{
 "cells": [
  {
   "cell_type": "markdown",
   "metadata": {},
   "source": [
    "## [Counting Sundays](https://projecteuler.net/problem=19)\n",
    "\n",
    "- Fact:\n",
    "    + 1 Jan 1900 was a Monday.\n",
    "    + Thirty days has September, April, June and November.\n",
    "    + All the rest have thirty-one,\n",
    "    + Saving February alone, Which has twenty-eight, rain or shine, and on leap years, twenty-nine.\n",
    "    + A leap year occurs on any year evenly divisible by 4, but not on a century unless it is divisible by 400.\n",
    "    \n",
    "- How many Sundays fell on the first of the month during the twentieth century (1 Jan 1901 to 31 Dec 2000)?"
   ]
  },
  {
   "cell_type": "markdown",
   "metadata": {},
   "source": [
    "#### Solution\n",
    "- Guessing\n",
    "    + From 1901 -> 2001: 100 years\n",
    "    + Probability of a day being the 1st day of a month is uniformly distributed: 1/7\n",
    "- The answer is around:\n",
    "$$\\Bigg[ \\frac{100*12}{7} \\Bigg]$$"
   ]
  }
 ],
 "metadata": {
  "kernelspec": {
   "display_name": "Python 3.6",
   "language": "python",
   "name": "py36"
  },
  "language_info": {
   "codemirror_mode": {
    "name": "ipython",
    "version": 3
   },
   "file_extension": ".py",
   "mimetype": "text/x-python",
   "name": "python",
   "nbconvert_exporter": "python",
   "pygments_lexer": "ipython3",
   "version": "3.6.6"
  }
 },
 "nbformat": 4,
 "nbformat_minor": 2
}
