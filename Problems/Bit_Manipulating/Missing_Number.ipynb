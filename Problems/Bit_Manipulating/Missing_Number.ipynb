{
 "cells": [
  {
   "cell_type": "markdown",
   "metadata": {},
   "source": [
    "## Missing Number\n",
    "\n",
    "- Find a missing number in a continuos series. Eg:\n",
    "    + [1,3,4,5] miss 2\n",
    "    + [6,5,3,2] miss 4"
   ]
  },
  {
   "cell_type": "markdown",
   "metadata": {},
   "source": [
    "## Solution\n",
    "### Observation\n",
    "- A num exor with itself = 0\n",
    "    + 1^1 = 0\n",
    "    + 3^3 = 0\n",
    "- A num exor with 0 = itself\n",
    "    + 1^0 = 1\n",
    "    + 3^0 = 3\n",
    "### Solution\n",
    "- Exor with the correct series. Eg:\n",
    "    + [1,3,4,5] = 1^3^4^5^1^2^3^4^5 = (1^1)^(3^3)^(4^4)^(5^5)^2=2\n",
    "    + [6,5,3,2] = 6^5^3^2^2^3^4^5^6 = (6^6)^(5^5)^(3^3)^(2^2)^4=4"
   ]
  }
 ],
 "metadata": {
  "kernelspec": {
   "display_name": "Python 3.6",
   "language": "python",
   "name": "py36"
  },
  "language_info": {
   "codemirror_mode": {
    "name": "ipython",
    "version": 3
   },
   "file_extension": ".py",
   "mimetype": "text/x-python",
   "name": "python",
   "nbconvert_exporter": "python",
   "pygments_lexer": "ipython3",
   "version": "3.6.6"
  }
 },
 "nbformat": 4,
 "nbformat_minor": 2
}
