{
 "cells": [
  {
   "cell_type": "markdown",
   "metadata": {},
   "source": [
    "# Edit Distance\n",
    "\n",
    "## Statement\n",
    "- The edit distance between two strings is the minimum number of operations \n",
    "    + insertions\n",
    "    + deletions\n",
    "    + substitutions of symbols to transform one string into another \n",
    "- It is a measure of similarity of two strings.\n",
    "<img src=\"./img/1.jpg\" alt=\"drawing\" width=\"1000\"/>\n",
    "\n",
    "\n",
    "## Solution\n",
    "\n",
    "```C++\n",
    "// s1,s2 start with 1\n",
    "int dp[103][103];\n",
    "int solveDP() {\n",
    "\n",
    "    ms(dp, 0x7f);\n",
    "\n",
    "    dp[1][1] = 0;\n",
    "\n",
    "    FOR(x1,1,n1+2) FOR(x2,1,n2+2) {\n",
    "        int cur = dp[x1][x2];\n",
    "\n",
    "        if(cur == inf)\n",
    "            continue;\n",
    "\n",
    "        // similar\n",
    "        if(s1[x1] == s2[x2]) {\n",
    "            if(x1+1 < n1+2 && x2+1 < n2+2)\n",
    "                dp[x1+1][x2+1] = min(dp[x1+1][x2+1], cur);\n",
    "        } else {\n",
    "            // insert s1\n",
    "            if(x1+1 < n1+2)\n",
    "                dp[x1+1][x2] = min(dp[x1+1][x2], cur + 1);\n",
    "\n",
    "            // Delete s1\n",
    "            if(x2+1 < n2+2)\n",
    "                dp[x1][x2+1] = min(dp[x1][x2+1], cur + 1);\n",
    "\n",
    "            // Substitute\n",
    "            if(x1+1 < n1+2 && x2+1 < n2+2)\n",
    "                dp[x1+1][x2+1] = min(dp[x1+1][x2+1], cur + 1);\n",
    "        }\n",
    "    }\n",
    "    return dp[n1+1][n2+1];\n",
    "}\n",
    "```\n",
    "\n",
    "<img src=\"./img/2.jpg\" alt=\"drawing\" width=\"1000\"/>"
   ]
  }
 ],
 "metadata": {
  "kernelspec": {
   "display_name": "Python 3.6",
   "language": "python",
   "name": "py36"
  },
  "language_info": {
   "codemirror_mode": {
    "name": "ipython",
    "version": 3
   },
   "file_extension": ".py",
   "mimetype": "text/x-python",
   "name": "python",
   "nbconvert_exporter": "python",
   "pygments_lexer": "ipython3",
   "version": "3.6.6"
  }
 },
 "nbformat": 4,
 "nbformat_minor": 2
}
