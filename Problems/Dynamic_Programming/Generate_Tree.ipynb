{
 "cells": [
  {
   "cell_type": "markdown",
   "metadata": {},
   "source": [
    "## Bit counting\n",
    "- Count number of the bit strings\n",
    "    + size = n\n",
    "    + without 2 consecutive bit '1'\n",
    "- Example n = 4\n",
    "<img src=\"./img/6.jpg\" alt=\"drawing\" width=\"600\"/>\n",
    "\n",
    "\n",
    "```C++\n",
    "/* --------------- Solution 1 - O(n)-------------- */\n",
    "int dp[103][2];\n",
    "int sol1(int n) {\n",
    "    // Base case\n",
    "    dp[1][0] = 1;\n",
    "    dp[1][1] = 1;\n",
    "\n",
    "    // DP\n",
    "    FOR(i,1,n+1) {\n",
    "        dp[i+1][0] = dp[i][0] + dp[i][1];\n",
    "        dp[i+1][1] = dp[i][0];\n",
    "    }\n",
    "    return dp[n][0] + dp[n][1];\n",
    "}\n",
    "```\n",
    "\n",
    "```C++\n",
    "/* ------------- Solution 2 - O(log(n))---------- */\n",
    "int sol2(int n) {\n",
    "    vvi X = { {1, 1},\n",
    "              {1, 0} };\n",
    "    vvi dp_1 = { {1},\n",
    "                 {1} };\n",
    "\n",
    "    vvi res = matrixMul(matrixPow(X, n-1), dp_1); \n",
    "    return res[0][0] + res[1][0];\n",
    "}\n",
    "```"
   ]
  },
  {
   "cell_type": "markdown",
   "metadata": {},
   "source": [
    "## [Path counting](http://codeforces.com/problemset/problem/166/E)\n",
    "\n",
    "<img src=\"./img/5.jpg\" alt=\"drawing\" width=\"900\"/>\n",
    "\n",
    "\n",
    "```C++\n",
    "/* --------------- Solution 1 - O(n)-------------- */\n",
    "int dp[MAXN][2];\n",
    "int sol1(int n) {\n",
    "    // 0 = A,B,C\n",
    "    // 1 = D\n",
    "    dp[1][0] = 1; \n",
    "    dp[1][1] = 0;\n",
    "    FOR(i,1,n+1) {\n",
    "        dp[i+1][0] = 2*dp[i][0] + dp[i][1];\n",
    "        dp[i+1][1] = 3*dp[i][0];\n",
    "    }\n",
    "    return dp[n][1];\n",
    "}\n",
    "```\n",
    "```C++\n",
    "/* ------------- Solution 2 - O(log(n))------------ */\n",
    "\n",
    "int sol2(int n) {\n",
    "    vvi X = { {2, 1},\n",
    "              {3, 0} };\n",
    "    vvi dp_0 = { {1},\n",
    "                 {0} };\n",
    "    return matrixMul(matrixPow(X, n-1), dp_0)[1][0];\n",
    "}\n",
    "```"
   ]
  }
 ],
 "metadata": {
  "kernelspec": {
   "display_name": "Python 3.6",
   "language": "python",
   "name": "py36"
  },
  "language_info": {
   "codemirror_mode": {
    "name": "ipython",
    "version": 3
   },
   "file_extension": ".py",
   "mimetype": "text/x-python",
   "name": "python",
   "nbconvert_exporter": "python",
   "pygments_lexer": "ipython3",
   "version": "3.6.6"
  }
 },
 "nbformat": 4,
 "nbformat_minor": 2
}
