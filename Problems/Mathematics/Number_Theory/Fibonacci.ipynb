{
 "cells": [
  {
   "cell_type": "markdown",
   "metadata": {},
   "source": [
    "## Fibonacci\n",
    "\n",
    "#### Series\n",
    "- 0, 1, 1, 2, 3, 5, 8, 13, 21, 34, 55, 89, 144,...\n",
    "$$F_0 = 0$$\n",
    "$$F_1 = 1$$\n",
    "$$F_n = F_{n-1} + F_{n-2}$$\n",
    "\n",
    "#### Calculate $F_n$ in O(log(n))\n",
    "<img src=\"./img/1.jpg\" alt=\"drawing\" width=\"600\"/>\n",
    "\n",
    "#### Sum of n Fibonacci\n",
    "$$F_0 + F_1 + F_2 + ... + F_n = F_{n+2} - 1$$"
   ]
  },
  {
   "cell_type": "markdown",
   "metadata": {},
   "source": [
    "## [Pisano Period](https://en.wikipedia.org/wiki/Pisano_period)\n",
    "#### Definition\n",
    "- $\\pi(n)$: The period of Fibonacci series mod n\n",
    "\n",
    "- Example\n",
    "    + Fibonacci series = 0, 1, 1, 2, 3, 5, 8, 13, 21, 34, 55, 89, 144,...\n",
    "    + Fibonacci series % 3 = 0, 1, 1, 2, 0, 2, 2, 1, 0, 1, 1, 2, 0, 2, 2, 1, 0, 1, 1,...\n",
    "    + the pattern 0, 1, 1, 2, 0, 2, 2, 1, length = 8 repeated\n",
    "        + => $\\pi(3)$ = 8\n",
    "\n",
    "- Algorithm\n",
    "```C++\n",
    "long long get_pisano_period(long long m) {\n",
    "    long long a = 0, b = 1, c = a + b;\n",
    "    for (int i = 0; i < m * m; i++) {\n",
    "        c = (a + b) % m;\n",
    "        a = b;\n",
    "        b = c;\n",
    "        if (a == 0 && b == 1) return i + 1;\n",
    "    }\n",
    "}\n",
    "```\n"
   ]
  }
 ],
 "metadata": {
  "kernelspec": {
   "display_name": "Python 3.6",
   "language": "python",
   "name": "py36"
  },
  "language_info": {
   "codemirror_mode": {
    "name": "ipython",
    "version": 3
   },
   "file_extension": ".py",
   "mimetype": "text/x-python",
   "name": "python",
   "nbconvert_exporter": "python",
   "pygments_lexer": "ipython3",
   "version": "3.6.6"
  }
 },
 "nbformat": 4,
 "nbformat_minor": 2
}
