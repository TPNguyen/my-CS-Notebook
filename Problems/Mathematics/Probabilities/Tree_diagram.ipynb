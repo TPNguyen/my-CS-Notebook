{
 "cells": [
  {
   "cell_type": "markdown",
   "metadata": {},
   "source": [
    "## Counting\n",
    "- Count number of the bit strings\n",
    "    + size = 4\n",
    "    + without 2 consecutive bit '1'\n",
    "    \n",
    "#### Solution\n",
    "- 8\n",
    "<img src=\"./img/2.jpg\" alt=\"drawing\" width=\"350\"/>\n"
   ]
  },
  {
   "cell_type": "markdown",
   "metadata": {},
   "source": [
    "## Monty Hall\n",
    "- 3 doors [1,2,3], 1 door has a big prize inside\n",
    "- Proceed:\n",
    "    + Constestant choose 1 door\n",
    "    + Host open 1 empty door then ask if contestant want to switch?\n",
    "- Find the best strategy: switch or not swtich \n",
    "\n",
    "#### Solution\n",
    "- Not switch: P(winning) = 1/3\n",
    "- Switch: P(winning) = 2/3\n",
    "\n",
    "![](./img/1.jpg)\n"
   ]
  }
 ],
 "metadata": {
  "kernelspec": {
   "display_name": "Python 3.6",
   "language": "python",
   "name": "py36"
  },
  "language_info": {
   "codemirror_mode": {
    "name": "ipython",
    "version": 3
   },
   "file_extension": ".py",
   "mimetype": "text/x-python",
   "name": "python",
   "nbconvert_exporter": "python",
   "pygments_lexer": "ipython3",
   "version": "3.6.6"
  }
 },
 "nbformat": 4,
 "nbformat_minor": 2
}
