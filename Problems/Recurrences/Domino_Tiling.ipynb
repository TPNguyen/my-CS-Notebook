{
 "cells": [
  {
   "cell_type": "markdown",
   "metadata": {},
   "source": [
    "## Domino Tiling\n",
    "- A board has the size nx2\n",
    "- Can be tiled by dominos size (1x2)\n",
    "    + Vertical 1x2\n",
    "    + Horizontal 2x1\n",
    "- How many ways to cover the board f(n)?\n",
    "<img src=\"./img/3.jpg\" alt=\"drawing\" width=\"600\"/>\n",
    "\n",
    "#### Solution\n",
    "\n",
    "$$f(n) = f(n-1) + f(n-2)$$\n",
    "\n",
    "<img src=\"./img/4.jpg\" alt=\"drawing\" width=\"600\"/>\n",
    "\n"
   ]
  }
 ],
 "metadata": {
  "kernelspec": {
   "display_name": "Root",
   "language": "python",
   "name": "python3"
  },
  "language_info": {
   "codemirror_mode": {
    "name": "ipython",
    "version": 3
   },
   "file_extension": ".py",
   "mimetype": "text/x-python",
   "name": "python",
   "nbconvert_exporter": "python",
   "pygments_lexer": "ipython3",
   "version": "3.6.5"
  }
 },
 "nbformat": 4,
 "nbformat_minor": 2
}
