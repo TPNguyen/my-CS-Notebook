{
 "cells": [
  {
   "cell_type": "markdown",
   "metadata": {},
   "source": [
    "## QuickSort\n",
    "- Unstable\n",
    "- Time complexity - Avg: O(n logn), Worstcase: O(n^2)\n",
    "- Space complexity - O(logn) - Stack memory while doing recursion\n",
    "\n",
    "<img src=\"./img/quicksort_partition.jpg\" alt=\"drawing\" width=\"900\"/>\n",
    "\n",
    "```C++\n",
    "// Partition into 2 halves\n",
    "//      1st half: a[l, p-1] <= a[p]\n",
    "//      2nd half: a[p+1, r] > a[p]\n",
    "int partition(vector<int> &nums, int l, int r) {\n",
    "    // Choose a pivot randomly\n",
    "    int p = randInt(l,r+1);\n",
    "    int pivot = nums[p];\n",
    "\n",
    "    // swap pivot and a[l]\n",
    "    swap(nums[l], nums[p]);\n",
    "\n",
    "    // Partition into 2 halves\n",
    "    //      1st half: a[i] <= pivot\n",
    "    //      2nd half: a[j] > pivot\n",
    "    int i = l+1;\n",
    "    int j = r;\n",
    "    while(i <= j) {\n",
    "        // Find element that > pivot in 1st half\n",
    "        while(nums[i] <= pivot) ++i;\n",
    "\n",
    "        // Find element that <= pivot in 2nd half\n",
    "        while(nums[j] > pivot) --j;\n",
    "\n",
    "        // Swap\n",
    "        if(i <= j) swap(nums[i++], nums[j--]);\n",
    "    }\n",
    "\n",
    "    // Swap pivot and a[l] back\n",
    "    p = j;\n",
    "    swap(nums[l], nums[p]);\n",
    "    return p;\n",
    "}\n",
    "\n",
    "// Sort subarray [l,r] - Increasing\n",
    "void quicksort(vector<int> &nums, int l, int r) {\n",
    "    // Terminate condition\n",
    "    if(l >= r)\n",
    "        return;\n",
    "\n",
    "    // Partition into 2 halves\n",
    "    int p = partition(nums, l, r);\n",
    "\n",
    "    // Sort 2 halves\n",
    "    quicksort(nums, l, p-1);\n",
    "    quicksort(nums, p+1, r);\n",
    "}\n",
    "```"
   ]
  }
 ],
 "metadata": {
  "kernelspec": {
   "display_name": "Python 3.6",
   "language": "python",
   "name": "py36"
  },
  "language_info": {
   "codemirror_mode": {
    "name": "ipython",
    "version": 3
   },
   "file_extension": ".py",
   "mimetype": "text/x-python",
   "name": "python",
   "nbconvert_exporter": "python",
   "pygments_lexer": "ipython3",
   "version": "3.6.6"
  }
 },
 "nbformat": 4,
 "nbformat_minor": 2
}
