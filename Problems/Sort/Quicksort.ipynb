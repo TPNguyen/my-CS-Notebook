{
 "cells": [
  {
   "cell_type": "markdown",
   "metadata": {},
   "source": [
    "## Quicksort\n",
    "- Unstable\n",
    "- Time complexity - Avg: O(n logn), Worstcase: O(n^2)\n",
    "- Space complexity - O(logn)\n",
    "\n",
    "<img src=\"./img/quicksort_partition.jpg\" alt=\"drawing\" width=\"650\"/>\n",
    "\n",
    "```C++\n",
    "int partition(int a[], int left, int right) {\n",
    "    // Choose pivot and swap with a[left]\n",
    "    swap(a[left], a[left + rand() % (right - left)]);\n",
    "    int pivot = a[left];\n",
    "\n",
    "    // \n",
    "    int i = left + 1;\n",
    "    int j = left + 1;\n",
    "    for( ; i <= right; ++i) {\n",
    "        if(a[i] <= pivot)                       // Condition\n",
    "            swap(a[i], a[j++]);\n",
    "    }\n",
    "\n",
    "    swap(a[left], a[--j]);\n",
    "    return j;\n",
    "}\n",
    "void quicksort(int a[], int left, int right) {\n",
    "    // Stop Condition\n",
    "    if(left >= right)\n",
    "        return;\n",
    "\n",
    "    // Partition and sort 2 halves recursively\n",
    "    int p = partition(a,left,right);\n",
    "    quicksort(a,left,p-1);\n",
    "    quicksort(a,p+1,right);\n",
    "}\n",
    "```"
   ]
  }
 ],
 "metadata": {
  "kernelspec": {
   "display_name": "Python 3.6",
   "language": "python",
   "name": "py36"
  },
  "language_info": {
   "codemirror_mode": {
    "name": "ipython",
    "version": 3
   },
   "file_extension": ".py",
   "mimetype": "text/x-python",
   "name": "python",
   "nbconvert_exporter": "python",
   "pygments_lexer": "ipython3",
   "version": "3.6.6"
  }
 },
 "nbformat": 4,
 "nbformat_minor": 2
}
